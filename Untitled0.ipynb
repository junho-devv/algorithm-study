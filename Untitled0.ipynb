{
  "nbformat": 4,
  "nbformat_minor": 0,
  "metadata": {
    "colab": {
      "name": "Untitled0.ipynb",
      "provenance": [],
      "authorship_tag": "ABX9TyOu3UKEhXxib+37M/u8n47t"
    },
    "kernelspec": {
      "name": "python3",
      "display_name": "Python 3"
    }
  },
  "cells": [
    {
      "cell_type": "markdown",
      "metadata": {
        "id": "AynDVvPvQ3AK"
      },
      "source": [
        ""
      ]
    },
    {
      "cell_type": "code",
      "metadata": {
        "colab": {
          "base_uri": "https://localhost:8080/"
        },
        "id": "JaLISspvQOoz",
        "outputId": "7500c2cc-c848-4eaf-d15c-3c374c0495eb"
      },
      "source": [
        "import time\r\n",
        "\r\n",
        "start_time = time.time()\r\n",
        "\r\n",
        "array = [2, 3, 5, 7, 11]\r\n",
        "summary = 0\r\n",
        "\r\n",
        "for x in array:\r\n",
        "    summary += x\r\n",
        "\r\n",
        "end_time = time.time()\r\n",
        "\r\n",
        "print(summary)\r\n",
        "print(\"time : \", end_time - start_time)"
      ],
      "execution_count": 7,
      "outputs": [
        {
          "output_type": "stream",
          "text": [
            "28\n",
            "time :  7.200241088867188e-05\n"
          ],
          "name": "stdout"
        }
      ]
    }
  ]
}